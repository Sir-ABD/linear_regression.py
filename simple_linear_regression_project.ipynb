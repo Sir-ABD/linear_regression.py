{
  "nbformat": 4,
  "nbformat_minor": 0,
  "metadata": {
    "colab": {
      "provenance": [],
      "authorship_tag": "ABX9TyOViHMcg8sbZ5iaur5EFudW",
      "include_colab_link": true
    },
    "kernelspec": {
      "name": "python3",
      "display_name": "Python 3"
    },
    "language_info": {
      "name": "python"
    }
  },
  "cells": [
    {
      "cell_type": "markdown",
      "metadata": {
        "id": "view-in-github",
        "colab_type": "text"
      },
      "source": [
        "<a href=\"https://colab.research.google.com/github/Sir-ABD/linear_regression.py/blob/main/simple_linear_regression_project.ipynb\" target=\"_parent\"><img src=\"https://colab.research.google.com/assets/colab-badge.svg\" alt=\"Open In Colab\"/></a>"
      ]
    },
    {
      "cell_type": "code",
      "execution_count": 1,
      "metadata": {
        "colab": {
          "base_uri": "https://localhost:8080/",
          "height": 484
        },
        "id": "ug9HGxXvdIG_",
        "outputId": "074861c1-6a75-4584-ecc7-82efcc1bc430"
      },
      "outputs": [
        {
          "output_type": "stream",
          "name": "stdout",
          "text": [
            "Mean Squared Error: 7.157403617999845\n",
            "R-squared: 0.8745545514256114\n"
          ]
        },
        {
          "output_type": "display_data",
          "data": {
            "text/plain": [
              "<Figure size 640x480 with 1 Axes>"
            ],
            "image/png": "[encoded data removed]"
          },
          "metadata": {}
        }
      ],
      "source": [
        "# Import necessary libraries\n",
        "import numpy as np\n",
        "import matplotlib.pyplot as plt\n",
        "from sklearn.linear_model import LinearRegression\n",
        "from sklearn.model_selection import train_test_split\n",
        "from sklearn.metrics import mean_squared_error, r2_score\n",
        "\n",
        "# Generate some sample data (replace with your dataset)\n",
        "# For example, X is the independent variable and y is the dependent variable\n",
        "X = np.random.rand(100, 1) * 10  # 100 random data points between 0 and 10\n",
        "y = 3 * X + np.random.randn(100, 1) * 2  # Linear relation with noise\n",
        "\n",
        "# Split data into training and testing sets\n",
        "X_train, X_test, y_train, y_test = train_test_split(X, y, test_size=0.2, random_state=42)\n",
        "\n",
        "# Create and fit the model\n",
        "model = LinearRegression()\n",
        "model.fit(X_train, y_train)\n",
        "\n",
        "# Make predictions\n",
        "y_pred = model.predict(X_test)\n",
        "\n",
        "# Evaluate the model\n",
        "mse = mean_squared_error(y_test, y_pred)\n",
        "r2 = r2_score(y_test, y_pred)\n",
        "\n",
        "# Print the results\n",
        "print(f\"Mean Squared Error: {mse}\")\n",
        "print(f\"R-squared: {r2}\")\n",
        "\n",
        "# Plot the results\n",
        "plt.scatter(X_test, y_test, color='blue', label='True values')\n",
        "plt.plot(X_test, y_pred, color='red', label='Regression line')\n",
        "plt.xlabel('X')\n",
        "plt.ylabel('y')\n",
        "plt.legend()\n",
        "plt.show()\n"
      ]
    },
    {
      "cell_type": "code",
      "source": [
        "import numpy as np\n",
        "\n",
        "# Linear Regression Implementation\n",
        "class LinearRegression:\n",
        "    def __init__(self, learning_rate=0.01, epochs=1000):\n",
        "        self.learning_rate = learning_rate  # Step size for gradient descent\n",
        "        self.epochs = epochs  # Number of iterations\n",
        "        self.weights = None   # Slope (coefficients)\n",
        "        self.bias = None      # Intercept\n",
        "\n",
        "    def fit(self, X, y):\n",
        "        \"\"\"\n",
        "        Fit the Linear Regression model on training data.\n",
        "        Parameters:\n",
        "            X: Training features, a numpy array of shape (n_samples, n_features)\n",
        "            y: Training target values, a numpy array of shape (n_samples,)\n",
        "        \"\"\"\n",
        "        n_samples, n_features = X.shape\n",
        "\n",
        "        # Initialize the parameters with zeros\n",
        "        self.weights = np.zeros(n_features)  # Weight for each feature\n",
        "        self.bias = 0\n",
        "\n",
        "        # Gradient Descent Loop\n",
        "        for _ in range(self.epochs):\n",
        "            y_predicted = np.dot(X, self.weights) + self.bias  # Linear equation: wx + b\n",
        "\n",
        "            # Compute gradients for weights and bias\n",
        "            dw = (1 / n_samples) * np.dot(X.T, (y_predicted - y))  # Partial derivative w.r.t weights\n",
        "            db = (1 / n_samples) * np.sum(y_predicted - y)         # Partial derivative w.r.t bias\n",
        "\n",
        "            # Update weights and bias using gradient descent\n",
        "            self.weights -= self.learning_rate * dw\n",
        "            self.bias -= self.learning_rate * db\n",
        "\n",
        "    def predict(self, X):\n",
        "        \"\"\"\n",
        "        Predict target values using the trained model.\n",
        "        Parameters:\n",
        "            X: Input features, a numpy array of shape (n_samples, n_features)\n",
        "        Returns:\n",
        "            Predicted values as a numpy array.\n",
        "        \"\"\"\n",
        "        return np.dot(X, self.weights) + self.bias\n",
        "\n",
        "\n",
        "# Example Dataset and Testing the Model\n",
        "if __name__ == \"__main__\":\n",
        "    # Dummy data (simple linear example: y = 2x + 3 + noise)\n",
        "    X = np.array([[1], [2], [3], [4], [5]])  # Feature matrix\n",
        "    y = np.array([5, 7, 9, 11, 13])          # Targets\n",
        "\n",
        "    # Initialize Linear Regression Model\n",
        "    lr_model = LinearRegression(learning_rate=0.01, epochs=1000)\n",
        "\n",
        "    # Train the model\n",
        "    lr_model.fit(X, y)\n",
        "\n",
        "    # Test the model\n",
        "    predictions = lr_model.predict(X)\n",
        "    print(\"Predictions:\", predictions)\n",
        "    print(\"Actual Values:\", y)\n",
        "    print(\"Weights:\", lr_model.weights)\n",
        "    print(\"Bias:\", lr_model.bias)\n"
      ],
      "metadata": {
        "colab": {
          "base_uri": "https://localhost:8080/"
        },
        "id": "Rx_eA5f3eOHu",
        "outputId": "0a4083c4-5181-4186-fb03-8f26b8a1a406"
      },
      "execution_count": null,
      "outputs": [
        {
          "output_type": "stream",
          "name": "stdout",
          "text": [
            "Predictions: [ 4.69750416  6.81338886  8.92927356 11.04515826 13.16104297]\n",
            "Actual Values: [ 5  7  9 11 13]\n",
            "Weights: [2.1158847]\n",
            "Bias: 2.581619456736265\n"
          ]
        }
      ]
    }
  ]
}